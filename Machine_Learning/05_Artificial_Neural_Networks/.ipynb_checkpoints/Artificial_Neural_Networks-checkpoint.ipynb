{
 "cells": [
  {
   "cell_type": "markdown",
   "id": "f185a0a0",
   "metadata": {},
   "source": [
    "\n",
    "Yapay Sinir Ağları (YSA), insan beyninin çalışma şeklini taklit eden ve bilgi işleme görevlerini gerçekleştiren bir tür yapay zeka modelidir. Yapay sinir ağları, özellikle derin öğrenme (deep learning) alanında önemli bir role sahiptir. İşte yapay sinir ağları hakkında temel bilgiler:\n",
    "\n",
    "Sinir Hücresi (Nöron): Yapay sinir ağları, biyolojik sinir hücrelerine benzer yapılardan oluşur. Her sinir hücresi, girdi verilerini işler ve sonuçları diğer sinir hücrelerine iletebilir.\n",
    "\n",
    "Katmanlar: Yapay sinir ağları, genellikle üç tür katmandan oluşur: giriş katmanı (input layer), gizli katmanlar (hidden layers) ve çıkış katmanı (output layer). Gizli katmanlar, verileri işlemek ve özelliklerini öğrenmek için kullanılır.\n",
    "\n",
    "Bağlantılar (Synapses): Sinir hücreleri arasındaki bağlantılar, her bağlantının ağırlıkla birleştirildiği ve bu ağırlıkların öğrenildiği yerlerdir. Ağırlıklar, veri işleme sırasında önemli bir rol oynar.\n",
    "\n",
    "İlk Ağırlık Ataması: Bir yapay sinir ağı eğitilmeye başladığında, ağırlıklar genellikle rastgele atanır. Eğitim süreci sırasında, bu ağırlıklar verilere göre ayarlanır ve model öğrenme gerçekleştirir.\n",
    "\n",
    "Öğrenme Algoritmaları: Yapay sinir ağları, eğitim verileri üzerinden öğrenir. Bu öğrenme süreci, geri yayılım (backpropagation) gibi çeşitli öğrenme algoritmaları kullanılarak gerçekleşir.\n",
    "\n",
    "Aktivasyon Fonksiyonları: Her sinir hücresi için bir aktivasyon fonksiyonu vardır. Bu fonksiyonlar, sinir hücrelerinin çıktısını hesaplamak için kullanılır ve ağın karmaşıklığını artırabilir.\n",
    "\n",
    "Uygulama Alanları: Yapay sinir ağları, birçok farklı uygulama alanında kullanılır, bunlara örnek olarak görüntü tanıma, doğal dil işleme, öneri sistemleri, finansal tahminler, oyun yapay zeka ve otomasyon yer alır.\n",
    "\n",
    "Derin Öğrenme: Derin öğrenme, çok katmanlı yapay sinir ağlarını kullanarak karmaşık görevleri çözmek için kullanılan bir alt dalıdır. Özellikle derin sinir ağları, büyük veri setleri üzerinde yüksek başarı elde edebilir.\n",
    "\n",
    "Zorluklar: Yapay sinir ağlarının eğitimi, uygun veri, model karmaşıklığı, aşırı uydurma (overfitting) gibi zorluklarla karşılaşabilir. Ayrıca, hesaplama kaynaklarına ve veri miktarına bağlı olarak ciddi hesaplama maliyetleri olabilir."
   ]
  },
  {
   "cell_type": "markdown",
   "id": "1ffbf748",
   "metadata": {},
   "source": [
    "#### 28*28 piksellik görüntüyü sınıflandırmak amaçlanıyor"
   ]
  },
  {
   "cell_type": "code",
   "execution_count": null,
   "id": "bdd89ebc",
   "metadata": {},
   "outputs": [],
   "source": [
    "from sklearn.datasets import fetch_openml #veri seti \n",
    "from sklearn.model_selection import train_test_split\n",
    "\n",
    "X,y =fetch_openml('mnist_784',version = 1,return_X_y=True,as_frame=False)\n",
    "\n",
    "X = X / 255.0\n",
    "x_train,x_test,y_train,y_test = train_test_split(X,y,random_state = 0 ,test_size=0.7)"
   ]
  },
  {
   "cell_type": "code",
   "execution_count": null,
   "id": "aad959cc",
   "metadata": {},
   "outputs": [],
   "source": [
    "import pandas as pd\n",
    "\n",
    "data = pd.DataFrame(X) \n",
    "data.insert(784,'label',y)#28*28 den 784 özellik vardır. NFR veri çerçevesinde etiket olarak Target y ekleniyor.\n",
    "data.head()"
   ]
  },
  {
   "cell_type": "code",
   "execution_count": null,
   "id": "1f6a8526",
   "metadata": {},
   "outputs": [],
   "source": [
    "import matplotlib.pyplot as plt\n",
    "for i in range(5):\n",
    "    plt.imshow(X[i].reshape((28,28)),cmap = 'gray')\n",
    "    plt.show()"
   ]
  },
  {
   "cell_type": "code",
   "execution_count": null,
   "id": "e8e84667",
   "metadata": {},
   "outputs": [],
   "source": [
    "from sklearn.neural_network import MLPClassifier\n",
    "mlp0=MLPClassifier(hidden_layer_sizes=1,activation = 'logistic')\n",
    "mlp1=MLPClassifier(hidden_layer_sizes=100,activation = 'logistic')\n",
    "mlp2=MLPClassifier(hidden_layer_sizes=1000,activation = 'logistic')\n",
    "#100.000 katmana sahip 3 farklı sinir ağı eğitildi."
   ]
  },
  {
   "cell_type": "code",
   "execution_count": null,
   "id": "872b3c96",
   "metadata": {},
   "outputs": [],
   "source": [
    "#eğitim gerçekleştiriliyor\n",
    "mlp0.fit(x_train,y_train)\n",
    "mlp1.fit(x_train,y_train)\n",
    "mlp2.fit(x_train,y_train)\n"
   ]
  },
  {
   "cell_type": "code",
   "execution_count": null,
   "id": "bed700ff",
   "metadata": {},
   "outputs": [],
   "source": [
    "predictions_NN = mlp0.predict(x_test)\n",
    "predictions_NN"
   ]
  },
  {
   "cell_type": "code",
   "execution_count": null,
   "id": "c44d5492",
   "metadata": {},
   "outputs": [],
   "source": [
    "predictions_NN1 = mlp1.predict(x_test)\n",
    "predictions_NN1"
   ]
  },
  {
   "cell_type": "code",
   "execution_count": null,
   "id": "d40ec82b",
   "metadata": {},
   "outputs": [],
   "source": [
    "predictions_NN2 = mlp2.predict(x_test)\n",
    "predictions_NN2"
   ]
  },
  {
   "cell_type": "code",
   "execution_count": null,
   "id": "c84af9d8",
   "metadata": {},
   "outputs": [],
   "source": []
  },
  {
   "cell_type": "code",
   "execution_count": null,
   "id": "19c06902",
   "metadata": {},
   "outputs": [],
   "source": []
  },
  {
   "cell_type": "code",
   "execution_count": null,
   "id": "f0f24232",
   "metadata": {},
   "outputs": [],
   "source": []
  }
 ],
 "metadata": {
  "kernelspec": {
   "display_name": "Python 3 (ipykernel)",
   "language": "python",
   "name": "python3"
  },
  "language_info": {
   "codemirror_mode": {
    "name": "ipython",
    "version": 3
   },
   "file_extension": ".py",
   "mimetype": "text/x-python",
   "name": "python",
   "nbconvert_exporter": "python",
   "pygments_lexer": "ipython3",
   "version": "3.11.2"
  }
 },
 "nbformat": 4,
 "nbformat_minor": 5
}
