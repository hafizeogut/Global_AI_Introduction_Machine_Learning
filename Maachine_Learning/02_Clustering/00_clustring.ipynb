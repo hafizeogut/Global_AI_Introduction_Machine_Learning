{
 "cells": [
  {
   "cell_type": "markdown",
   "id": "0bafad45",
   "metadata": {},
   "source": [
    "# Unsupervised Learning"
   ]
  },
  {
   "cell_type": "markdown",
   "id": "da398436",
   "metadata": {},
   "source": [
    "Denetimsiz öğrenme, verilerden özellikleri veya desenleri öğrenmek için rehber olmadan kullanılan bir makine öğrenme yöntemidir.\n",
    "\n",
    "-Elma, muz, portakal gibi farklı meyveleri içeren bir sepet düşünün. Denetimsiz öğrenme, bu meyveleri benzerlikleri üzerinden gruplayabilir. Örneğin, aynı tür meyveleri bir araya getirerek \"meyve grupları\" oluşturabilir."
   ]
  },
  {
   "cell_type": "code",
   "execution_count": 6,
   "id": "08e38c22",
   "metadata": {},
   "outputs": [
    {
     "data": {
      "text/html": [
       "<div>\n",
       "<style scoped>\n",
       "    .dataframe tbody tr th:only-of-type {\n",
       "        vertical-align: middle;\n",
       "    }\n",
       "\n",
       "    .dataframe tbody tr th {\n",
       "        vertical-align: top;\n",
       "    }\n",
       "\n",
       "    .dataframe thead th {\n",
       "        text-align: right;\n",
       "    }\n",
       "</style>\n",
       "<table border=\"1\" class=\"dataframe\">\n",
       "  <thead>\n",
       "    <tr style=\"text-align: right;\">\n",
       "      <th></th>\n",
       "      <th>num_reactions</th>\n",
       "      <th>num_comments</th>\n",
       "      <th>num_shares</th>\n",
       "      <th>num_likes</th>\n",
       "      <th>num_loves</th>\n",
       "      <th>num_wows</th>\n",
       "      <th>num_hahas</th>\n",
       "      <th>num_sads</th>\n",
       "      <th>num_angrys</th>\n",
       "      <th>status_type_link</th>\n",
       "      <th>status_type_photo</th>\n",
       "      <th>status_type_status</th>\n",
       "      <th>status_type_video</th>\n",
       "    </tr>\n",
       "  </thead>\n",
       "  <tbody>\n",
       "    <tr>\n",
       "      <th>0</th>\n",
       "      <td>0.112314</td>\n",
       "      <td>0.024393</td>\n",
       "      <td>0.076519</td>\n",
       "      <td>0.091720</td>\n",
       "      <td>0.140030</td>\n",
       "      <td>0.010791</td>\n",
       "      <td>0.006369</td>\n",
       "      <td>0.019608</td>\n",
       "      <td>0.0</td>\n",
       "      <td>0.0</td>\n",
       "      <td>0.0</td>\n",
       "      <td>0.0</td>\n",
       "      <td>1.0</td>\n",
       "    </tr>\n",
       "    <tr>\n",
       "      <th>1</th>\n",
       "      <td>0.031847</td>\n",
       "      <td>0.000000</td>\n",
       "      <td>0.000000</td>\n",
       "      <td>0.031847</td>\n",
       "      <td>0.000000</td>\n",
       "      <td>0.000000</td>\n",
       "      <td>0.000000</td>\n",
       "      <td>0.000000</td>\n",
       "      <td>0.0</td>\n",
       "      <td>0.0</td>\n",
       "      <td>1.0</td>\n",
       "      <td>0.0</td>\n",
       "      <td>0.0</td>\n",
       "    </tr>\n",
       "    <tr>\n",
       "      <th>2</th>\n",
       "      <td>0.048195</td>\n",
       "      <td>0.011243</td>\n",
       "      <td>0.016647</td>\n",
       "      <td>0.043312</td>\n",
       "      <td>0.031963</td>\n",
       "      <td>0.003597</td>\n",
       "      <td>0.006369</td>\n",
       "      <td>0.000000</td>\n",
       "      <td>0.0</td>\n",
       "      <td>0.0</td>\n",
       "      <td>0.0</td>\n",
       "      <td>0.0</td>\n",
       "      <td>1.0</td>\n",
       "    </tr>\n",
       "    <tr>\n",
       "      <th>3</th>\n",
       "      <td>0.023567</td>\n",
       "      <td>0.000000</td>\n",
       "      <td>0.000000</td>\n",
       "      <td>0.023567</td>\n",
       "      <td>0.000000</td>\n",
       "      <td>0.000000</td>\n",
       "      <td>0.000000</td>\n",
       "      <td>0.000000</td>\n",
       "      <td>0.0</td>\n",
       "      <td>0.0</td>\n",
       "      <td>1.0</td>\n",
       "      <td>0.0</td>\n",
       "      <td>0.0</td>\n",
       "    </tr>\n",
       "    <tr>\n",
       "      <th>4</th>\n",
       "      <td>0.045223</td>\n",
       "      <td>0.000000</td>\n",
       "      <td>0.000000</td>\n",
       "      <td>0.043312</td>\n",
       "      <td>0.013699</td>\n",
       "      <td>0.000000</td>\n",
       "      <td>0.000000</td>\n",
       "      <td>0.000000</td>\n",
       "      <td>0.0</td>\n",
       "      <td>0.0</td>\n",
       "      <td>1.0</td>\n",
       "      <td>0.0</td>\n",
       "      <td>0.0</td>\n",
       "    </tr>\n",
       "  </tbody>\n",
       "</table>\n",
       "</div>"
      ],
      "text/plain": [
       "   num_reactions  num_comments  num_shares  num_likes  num_loves  num_wows   \n",
       "0       0.112314      0.024393    0.076519   0.091720   0.140030  0.010791  \\\n",
       "1       0.031847      0.000000    0.000000   0.031847   0.000000  0.000000   \n",
       "2       0.048195      0.011243    0.016647   0.043312   0.031963  0.003597   \n",
       "3       0.023567      0.000000    0.000000   0.023567   0.000000  0.000000   \n",
       "4       0.045223      0.000000    0.000000   0.043312   0.013699  0.000000   \n",
       "\n",
       "   num_hahas  num_sads  num_angrys  status_type_link  status_type_photo   \n",
       "0   0.006369  0.019608         0.0               0.0                0.0  \\\n",
       "1   0.000000  0.000000         0.0               0.0                1.0   \n",
       "2   0.006369  0.000000         0.0               0.0                0.0   \n",
       "3   0.000000  0.000000         0.0               0.0                1.0   \n",
       "4   0.000000  0.000000         0.0               0.0                1.0   \n",
       "\n",
       "   status_type_status  status_type_video  \n",
       "0                 0.0                1.0  \n",
       "1                 0.0                0.0  \n",
       "2                 0.0                1.0  \n",
       "3                 0.0                0.0  \n",
       "4                 0.0                0.0  "
      ]
     },
     "execution_count": 6,
     "metadata": {},
     "output_type": "execute_result"
    }
   ],
   "source": [
    "import pandas as pd\n",
    "dataset = pd.read_csv('Live.csv')\n",
    "dataset.head()"
   ]
  },
  {
   "cell_type": "markdown",
   "id": "fdd556f0",
   "metadata": {},
   "source": [
    "## K-Means Algoritması"
   ]
  },
  {
   "cell_type": "markdown",
   "id": "dc31c214",
   "metadata": {},
   "source": [
    "1-Başlangıçta, K adet rastgele merkez nokta (centroid) seçilir.\n",
    "\n",
    "2-Her veri noktası, en yakın merkeze atanır ve bu şekilde K kümesi oluşturulur.\n",
    "\n",
    "3-Her kümenin merkezi, o küme içindeki veri noktalarının ortalaması alınarak güncellenir.\n",
    "\n",
    "4-Yeni merkezler belirlendikten sonra, veriler tekrar merkezlere en yakın şekilde gruplanır.\n",
    "\n",
    "5-Merkezlerin güncellenmesi ve verilerin yeniden gruplanması adımları tekrarlanır.\n",
    "\n",
    "6-Merkezler artık çok fazla değişmediğinde veya belirli bir iterasyon sayısına ulaşıldığında algoritma sonlanır."
   ]
  },
  {
   "cell_type": "code",
   "execution_count": 14,
   "id": "376c8a71",
   "metadata": {},
   "outputs": [],
   "source": [
    "from sklearn.cluster import KMeans\n",
    "model = KMeans(n_clusters = 3) # küme sayısı 3 e ayarlandı. 0 1 2 etiket"
   ]
  },
  {
   "cell_type": "code",
   "execution_count": 15,
   "id": "29ee121e",
   "metadata": {},
   "outputs": [
    {
     "name": "stderr",
     "output_type": "stream",
     "text": [
      "C:\\Users\\HafizeOgut\\AppData\\Local\\Programs\\Python\\Python311\\Lib\\site-packages\\sklearn\\cluster\\_kmeans.py:1416: FutureWarning: The default value of `n_init` will change from 10 to 'auto' in 1.4. Set the value of `n_init` explicitly to suppress the warning\n",
      "  super()._check_params_vs_input(X, default_n_init=10)\n"
     ]
    },
    {
     "data": {
      "text/html": [
       "<style>#sk-container-id-2 {color: black;}#sk-container-id-2 pre{padding: 0;}#sk-container-id-2 div.sk-toggleable {background-color: white;}#sk-container-id-2 label.sk-toggleable__label {cursor: pointer;display: block;width: 100%;margin-bottom: 0;padding: 0.3em;box-sizing: border-box;text-align: center;}#sk-container-id-2 label.sk-toggleable__label-arrow:before {content: \"▸\";float: left;margin-right: 0.25em;color: #696969;}#sk-container-id-2 label.sk-toggleable__label-arrow:hover:before {color: black;}#sk-container-id-2 div.sk-estimator:hover label.sk-toggleable__label-arrow:before {color: black;}#sk-container-id-2 div.sk-toggleable__content {max-height: 0;max-width: 0;overflow: hidden;text-align: left;background-color: #f0f8ff;}#sk-container-id-2 div.sk-toggleable__content pre {margin: 0.2em;color: black;border-radius: 0.25em;background-color: #f0f8ff;}#sk-container-id-2 input.sk-toggleable__control:checked~div.sk-toggleable__content {max-height: 200px;max-width: 100%;overflow: auto;}#sk-container-id-2 input.sk-toggleable__control:checked~label.sk-toggleable__label-arrow:before {content: \"▾\";}#sk-container-id-2 div.sk-estimator input.sk-toggleable__control:checked~label.sk-toggleable__label {background-color: #d4ebff;}#sk-container-id-2 div.sk-label input.sk-toggleable__control:checked~label.sk-toggleable__label {background-color: #d4ebff;}#sk-container-id-2 input.sk-hidden--visually {border: 0;clip: rect(1px 1px 1px 1px);clip: rect(1px, 1px, 1px, 1px);height: 1px;margin: -1px;overflow: hidden;padding: 0;position: absolute;width: 1px;}#sk-container-id-2 div.sk-estimator {font-family: monospace;background-color: #f0f8ff;border: 1px dotted black;border-radius: 0.25em;box-sizing: border-box;margin-bottom: 0.5em;}#sk-container-id-2 div.sk-estimator:hover {background-color: #d4ebff;}#sk-container-id-2 div.sk-parallel-item::after {content: \"\";width: 100%;border-bottom: 1px solid gray;flex-grow: 1;}#sk-container-id-2 div.sk-label:hover label.sk-toggleable__label {background-color: #d4ebff;}#sk-container-id-2 div.sk-serial::before {content: \"\";position: absolute;border-left: 1px solid gray;box-sizing: border-box;top: 0;bottom: 0;left: 50%;z-index: 0;}#sk-container-id-2 div.sk-serial {display: flex;flex-direction: column;align-items: center;background-color: white;padding-right: 0.2em;padding-left: 0.2em;position: relative;}#sk-container-id-2 div.sk-item {position: relative;z-index: 1;}#sk-container-id-2 div.sk-parallel {display: flex;align-items: stretch;justify-content: center;background-color: white;position: relative;}#sk-container-id-2 div.sk-item::before, #sk-container-id-2 div.sk-parallel-item::before {content: \"\";position: absolute;border-left: 1px solid gray;box-sizing: border-box;top: 0;bottom: 0;left: 50%;z-index: -1;}#sk-container-id-2 div.sk-parallel-item {display: flex;flex-direction: column;z-index: 1;position: relative;background-color: white;}#sk-container-id-2 div.sk-parallel-item:first-child::after {align-self: flex-end;width: 50%;}#sk-container-id-2 div.sk-parallel-item:last-child::after {align-self: flex-start;width: 50%;}#sk-container-id-2 div.sk-parallel-item:only-child::after {width: 0;}#sk-container-id-2 div.sk-dashed-wrapped {border: 1px dashed gray;margin: 0 0.4em 0.5em 0.4em;box-sizing: border-box;padding-bottom: 0.4em;background-color: white;}#sk-container-id-2 div.sk-label label {font-family: monospace;font-weight: bold;display: inline-block;line-height: 1.2em;}#sk-container-id-2 div.sk-label-container {text-align: center;}#sk-container-id-2 div.sk-container {/* jupyter's `normalize.less` sets `[hidden] { display: none; }` but bootstrap.min.css set `[hidden] { display: none !important; }` so we also need the `!important` here to be able to override the default hidden behavior on the sphinx rendered scikit-learn.org. See: https://github.com/scikit-learn/scikit-learn/issues/21755 */display: inline-block !important;position: relative;}#sk-container-id-2 div.sk-text-repr-fallback {display: none;}</style><div id=\"sk-container-id-2\" class=\"sk-top-container\"><div class=\"sk-text-repr-fallback\"><pre>KMeans(n_clusters=3)</pre><b>In a Jupyter environment, please rerun this cell to show the HTML representation or trust the notebook. <br />On GitHub, the HTML representation is unable to render, please try loading this page with nbviewer.org.</b></div><div class=\"sk-container\" hidden><div class=\"sk-item\"><div class=\"sk-estimator sk-toggleable\"><input class=\"sk-toggleable__control sk-hidden--visually\" id=\"sk-estimator-id-2\" type=\"checkbox\" checked><label for=\"sk-estimator-id-2\" class=\"sk-toggleable__label sk-toggleable__label-arrow\">KMeans</label><div class=\"sk-toggleable__content\"><pre>KMeans(n_clusters=3)</pre></div></div></div></div></div>"
      ],
      "text/plain": [
       "KMeans(n_clusters=3)"
      ]
     },
     "execution_count": 15,
     "metadata": {},
     "output_type": "execute_result"
    }
   ],
   "source": [
    "model.fit(dataset)"
   ]
  },
  {
   "cell_type": "code",
   "execution_count": 19,
   "id": "b5bc3e56",
   "metadata": {},
   "outputs": [],
   "source": [
    "labels = model.predict(dataset)"
   ]
  },
  {
   "cell_type": "markdown",
   "id": "b8c3678b",
   "metadata": {},
   "source": [
    "Her grupta kaç örnek var tespit ediliyor"
   ]
  },
  {
   "cell_type": "code",
   "execution_count": 22,
   "id": "46b3f223",
   "metadata": {},
   "outputs": [
    {
     "data": {
      "text/plain": [
       "(array([0, 1, 2]), array([4288, 2334,  428], dtype=int64))"
      ]
     },
     "execution_count": 22,
     "metadata": {},
     "output_type": "execute_result"
    }
   ],
   "source": [
    "import numpy as np\n",
    "np.unique(labels,return_counts=True)# Dizideki benzersiz değerler döndürülüyor."
   ]
  },
  {
   "cell_type": "markdown",
   "id": "10309d5a",
   "metadata": {},
   "source": [
    "# #"
   ]
  },
  {
   "cell_type": "markdown",
   "id": "84772b9f",
   "metadata": {},
   "source": [
    "Nasıl daha iyi sayıda küme seçebiliriz?"
   ]
  },
  {
   "cell_type": "markdown",
   "id": "27864a74",
   "metadata": {},
   "source": [
    "###### silhouette_score,"
   ]
  },
  {
   "cell_type": "markdown",
   "id": "b7a093b6",
   "metadata": {},
   "source": [
    "Veri noktalarının bir kümeleme algoritması tarafından ne kadar iyi gruplandığını değerlendirmek için kullanılan bir ölçüdür."
   ]
  },
  {
   "cell_type": "markdown",
   "id": "d7055631",
   "metadata": {},
   "source": [
    "1-Pozitif bir skor, veri noktalarının doğru bir şekilde kümelenmiş olduğunu gösterir. Noktalar kendi küme üyeleriyle benzerdir ve diğer kümelerden farklıdır.\n",
    "\n",
    "2-Sıfıra yakın bir skor, veri noktalarının çeşitli kümeler arasında sınıflandırıldığını veya net bir kümeleme yapmadığını gösterebilir.\n",
    "\n",
    "3-Negatif bir skor, veri noktalarının yanlış kümelerde toplandığını veya yanlış sınıflandırıldığını gösterir."
   ]
  },
  {
   "cell_type": "code",
   "execution_count": 24,
   "id": "a91e19f6",
   "metadata": {},
   "outputs": [],
   "source": [
    "from sklearn.metrics import silhouette_score\n",
    "import matplotlib.pyplot as plt"
   ]
  },
  {
   "cell_type": "code",
   "execution_count": 26,
   "id": "714320b5",
   "metadata": {},
   "outputs": [],
   "source": [
    "silhouettes = []  # Boş bir liste oluşturuluyor, Silhouette skorlarını saklamak için kullanılacak.\n",
    "ks =list(range(2,12)) # 2 ile 11 arasındaki küme sayılarını içeren bir liste oluşturuluyor."
   ]
  },
  {
   "cell_type": "markdown",
   "id": "53f367f4",
   "metadata": {},
   "source": [
    "dataset: Silhouette skoru hesaplamak için kullanılan veri kümesini temsil eden bir dizi veya matris. Bu, kümeleme sonuçlarını değerlendireceğiniz veri kümesidir.\n",
    "\n",
    "label: Veri noktalarının hangi kümeye ait olduğunu belirten bir etiket dizisi veya matrisi. Bu, kümeleme sonucunun her veri noktası için atadığı küme etiketlerini içerir.\n",
    "\n",
    "metric: Silhouette skoru hesaplanırken kullanılacak mesafe metriği. Varsayılan olarak 'euclidean' (Öklidyen mesafe) kullanılır, ancak farklı mesafe metrikleri de seçilebilir. \n",
    "Diğer olası seçenekler arasında 'manhattan' ve 'cosine' bulunur. Bu parametre, veri noktaları arasındaki benzerliği veya uzaklığı hesaplarken hangi ölçümün kullanılacağını belirtir."
   ]
  },
  {
   "cell_type": "code",
   "execution_count": 34,
   "id": "4336483a",
   "metadata": {},
   "outputs": [
    {
     "name": "stdout",
     "output_type": "stream",
     "text": [
      "For n_clustercs2, The Silhoutte Coefficient is 0.8188237721696822\n",
      "For n_clustercs3, The Silhoutte Coefficient is 0.8972493682244883\n",
      "For n_clustercs4, The Silhoutte Coefficient is 0.9106664962327088\n",
      "For n_clustercs5, The Silhoutte Coefficient is 0.8866768371183754\n",
      "For n_clustercs6, The Silhoutte Coefficient is 0.8430118288915796\n",
      "For n_clustercs7, The Silhoutte Coefficient is 0.8419421782294257\n",
      "For n_clustercs8, The Silhoutte Coefficient is 0.8370052625268489\n",
      "For n_clustercs9, The Silhoutte Coefficient is 0.8038024216461196\n",
      "For n_clustercs10, The Silhoutte Coefficient is 0.7269839222913216\n",
      "For n_clustercs11, The Silhoutte Coefficient is 0.7131112124398348\n"
     ]
    }
   ],
   "source": [
    "for n_cluster in ks:# Her küme sayısı için işlemleri yapacak bir döngü başlatılıyor.\n",
    "    kmeans=KMeans(n_clusters=n_cluster).fit(dataset)# K-Means kümeleme modeli oluşturuluyor ve veriye uyarlanıyor.\n",
    "    label=kmeans.labels_# Her veri noktasının ait olduğu kümenin etiketleri alınıyor.\n",
    "    sil_coeff = silhouette_score(dataset,label,metric='euclidean')# Silhouette skoru hesaplanıyor.\n",
    "    print('For n_clustercs{}, The Silhoutte Coefficient is {}'.format(n_cluster,sil_coeff))\n",
    "    silhouettes.append(sil_coeff)# Hesaplanan Silhouette skoru listeye ekleniyor."
   ]
  },
  {
   "cell_type": "code",
   "execution_count": null,
   "id": "1c232414",
   "metadata": {},
   "outputs": [],
   "source": []
  }
 ],
 "metadata": {
  "kernelspec": {
   "display_name": "Python 3 (ipykernel)",
   "language": "python",
   "name": "python3"
  },
  "language_info": {
   "codemirror_mode": {
    "name": "ipython",
    "version": 3
   },
   "file_extension": ".py",
   "mimetype": "text/x-python",
   "name": "python",
   "nbconvert_exporter": "python",
   "pygments_lexer": "ipython3",
   "version": "3.11.2"
  }
 },
 "nbformat": 4,
 "nbformat_minor": 5
}
